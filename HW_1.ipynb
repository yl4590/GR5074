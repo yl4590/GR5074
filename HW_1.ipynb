{
  "nbformat": 4,
  "nbformat_minor": 0,
  "metadata": {
    "colab": {
      "name": "HW 1.ipynb",
      "provenance": [],
      "authorship_tag": "ABX9TyMPazy7dEnJRv127KmZ64EY",
      "include_colab_link": true
    },
    "kernelspec": {
      "name": "python3",
      "display_name": "Python 3"
    },
    "language_info": {
      "name": "python"
    }
  },
  "cells": [
    {
      "cell_type": "markdown",
      "metadata": {
        "id": "view-in-github",
        "colab_type": "text"
      },
      "source": [
        "<a href=\"https://colab.research.google.com/github/yl4590/GR5074/blob/main/HW_1.ipynb\" target=\"_parent\"><img src=\"https://colab.research.google.com/assets/colab-badge.svg\" alt=\"Open In Colab\"/></a>"
      ]
    },
    {
      "cell_type": "markdown",
      "source": [
        "# 1. Explore bivariate results (Use visualizations!) -- Describe any relationships you see between particular features and the target variable"
      ],
      "metadata": {
        "id": "ydsk4R1wZKe5"
      }
    },
    {
      "cell_type": "code",
      "execution_count": null,
      "metadata": {
        "id": "6usPhGwVgdXP"
      },
      "outputs": [],
      "source": [
        "! pip install aimodelshare --upgrade"
      ]
    },
    {
      "cell_type": "code",
      "source": [
        "from aimodelshare import download_data\n",
        "download_data('public.ecr.aws/y2e2a1d6/world_happiness_competition_data-repository:latest') "
      ],
      "metadata": {
        "id": "2k2mbGTfgf2z"
      },
      "execution_count": null,
      "outputs": []
    },
    {
      "cell_type": "code",
      "source": [
        "import pandas as pd\n",
        "X_train = pd.read_csv('world_happiness_competition_data/X_train.csv')\n",
        "X_test = pd.read_csv('world_happiness_competition_data/X_test.csv')\n",
        "y_train = pd.read_csv('world_happiness_competition_data/y_train.csv')\n",
        "y_train_labels = y_train.idxmax(axis=1)"
      ],
      "metadata": {
        "id": "A2Vih3Nfgiy7"
      },
      "execution_count": null,
      "outputs": []
    },
    {
      "cell_type": "code",
      "metadata": {
        "colab": {
          "base_uri": "https://localhost:8080/",
          "height": 328
        },
        "id": "jT0qFCZFNzHq",
        "outputId": "de832963-3fd6-415f-a311-f5f8f7317652"
      },
      "source": [
        "# Load data\n",
        "import pandas as pd\n",
        "X_train = pd.read_csv('world_happiness_competition_data/X_train.csv')\n",
        "X_test = pd.read_csv('world_happiness_competition_data/X_test.csv')\n",
        "y_train = pd.read_csv('world_happiness_competition_data/y_train.csv')\n",
        "y_train_labels = y_train.idxmax(axis=1)\n",
        "\n",
        "X_train.head()"
      ],
      "execution_count": null,
      "outputs": [
        {
          "output_type": "execute_result",
          "data": {
            "text/html": [
              "\n",
              "  <div id=\"df-92384fca-1f29-4c34-ad44-592f1a0dae78\">\n",
              "    <div class=\"colab-df-container\">\n",
              "      <div>\n",
              "<style scoped>\n",
              "    .dataframe tbody tr th:only-of-type {\n",
              "        vertical-align: middle;\n",
              "    }\n",
              "\n",
              "    .dataframe tbody tr th {\n",
              "        vertical-align: top;\n",
              "    }\n",
              "\n",
              "    .dataframe thead th {\n",
              "        text-align: right;\n",
              "    }\n",
              "</style>\n",
              "<table border=\"1\" class=\"dataframe\">\n",
              "  <thead>\n",
              "    <tr style=\"text-align: right;\">\n",
              "      <th></th>\n",
              "      <th>Country or region</th>\n",
              "      <th>GDP per capita</th>\n",
              "      <th>Social support</th>\n",
              "      <th>Healthy life expectancy</th>\n",
              "      <th>Freedom to make life choices</th>\n",
              "      <th>Generosity</th>\n",
              "      <th>Perceptions of corruption</th>\n",
              "      <th>name</th>\n",
              "      <th>region</th>\n",
              "      <th>sub-region</th>\n",
              "      <th>Terrorist_attacks</th>\n",
              "    </tr>\n",
              "  </thead>\n",
              "  <tbody>\n",
              "    <tr>\n",
              "      <th>0</th>\n",
              "      <td>Saudi Arabia</td>\n",
              "      <td>1.403</td>\n",
              "      <td>1.357</td>\n",
              "      <td>0.795</td>\n",
              "      <td>0.439</td>\n",
              "      <td>0.080</td>\n",
              "      <td>0.132</td>\n",
              "      <td>Saudi Arabia</td>\n",
              "      <td>Asia</td>\n",
              "      <td>Western Asia</td>\n",
              "      <td>173.000000</td>\n",
              "    </tr>\n",
              "    <tr>\n",
              "      <th>1</th>\n",
              "      <td>Georgia</td>\n",
              "      <td>0.886</td>\n",
              "      <td>0.666</td>\n",
              "      <td>0.752</td>\n",
              "      <td>0.346</td>\n",
              "      <td>0.043</td>\n",
              "      <td>0.164</td>\n",
              "      <td>Georgia</td>\n",
              "      <td>Asia</td>\n",
              "      <td>Western Asia</td>\n",
              "      <td>18.000000</td>\n",
              "    </tr>\n",
              "    <tr>\n",
              "      <th>2</th>\n",
              "      <td>Guinea</td>\n",
              "      <td>0.380</td>\n",
              "      <td>0.829</td>\n",
              "      <td>0.375</td>\n",
              "      <td>0.332</td>\n",
              "      <td>0.207</td>\n",
              "      <td>0.086</td>\n",
              "      <td>Guinea</td>\n",
              "      <td>Africa</td>\n",
              "      <td>Sub-Saharan Africa</td>\n",
              "      <td>3.000000</td>\n",
              "    </tr>\n",
              "    <tr>\n",
              "      <th>3</th>\n",
              "      <td>Lithuania</td>\n",
              "      <td>1.238</td>\n",
              "      <td>1.515</td>\n",
              "      <td>0.818</td>\n",
              "      <td>0.291</td>\n",
              "      <td>0.043</td>\n",
              "      <td>0.042</td>\n",
              "      <td>Lithuania</td>\n",
              "      <td>Europe</td>\n",
              "      <td>Northern Europe</td>\n",
              "      <td>125.611111</td>\n",
              "    </tr>\n",
              "    <tr>\n",
              "      <th>4</th>\n",
              "      <td>Netherlands</td>\n",
              "      <td>1.396</td>\n",
              "      <td>1.522</td>\n",
              "      <td>0.999</td>\n",
              "      <td>0.557</td>\n",
              "      <td>0.322</td>\n",
              "      <td>0.298</td>\n",
              "      <td>Netherlands</td>\n",
              "      <td>Europe</td>\n",
              "      <td>Western Europe</td>\n",
              "      <td>1.000000</td>\n",
              "    </tr>\n",
              "  </tbody>\n",
              "</table>\n",
              "</div>\n",
              "      <button class=\"colab-df-convert\" onclick=\"convertToInteractive('df-92384fca-1f29-4c34-ad44-592f1a0dae78')\"\n",
              "              title=\"Convert this dataframe to an interactive table.\"\n",
              "              style=\"display:none;\">\n",
              "        \n",
              "  <svg xmlns=\"http://www.w3.org/2000/svg\" height=\"24px\"viewBox=\"0 0 24 24\"\n",
              "       width=\"24px\">\n",
              "    <path d=\"M0 0h24v24H0V0z\" fill=\"none\"/>\n",
              "    <path d=\"M18.56 5.44l.94 2.06.94-2.06 2.06-.94-2.06-.94-.94-2.06-.94 2.06-2.06.94zm-11 1L8.5 8.5l.94-2.06 2.06-.94-2.06-.94L8.5 2.5l-.94 2.06-2.06.94zm10 10l.94 2.06.94-2.06 2.06-.94-2.06-.94-.94-2.06-.94 2.06-2.06.94z\"/><path d=\"M17.41 7.96l-1.37-1.37c-.4-.4-.92-.59-1.43-.59-.52 0-1.04.2-1.43.59L10.3 9.45l-7.72 7.72c-.78.78-.78 2.05 0 2.83L4 21.41c.39.39.9.59 1.41.59.51 0 1.02-.2 1.41-.59l7.78-7.78 2.81-2.81c.8-.78.8-2.07 0-2.86zM5.41 20L4 18.59l7.72-7.72 1.47 1.35L5.41 20z\"/>\n",
              "  </svg>\n",
              "      </button>\n",
              "      \n",
              "  <style>\n",
              "    .colab-df-container {\n",
              "      display:flex;\n",
              "      flex-wrap:wrap;\n",
              "      gap: 12px;\n",
              "    }\n",
              "\n",
              "    .colab-df-convert {\n",
              "      background-color: #E8F0FE;\n",
              "      border: none;\n",
              "      border-radius: 50%;\n",
              "      cursor: pointer;\n",
              "      display: none;\n",
              "      fill: #1967D2;\n",
              "      height: 32px;\n",
              "      padding: 0 0 0 0;\n",
              "      width: 32px;\n",
              "    }\n",
              "\n",
              "    .colab-df-convert:hover {\n",
              "      background-color: #E2EBFA;\n",
              "      box-shadow: 0px 1px 2px rgba(60, 64, 67, 0.3), 0px 1px 3px 1px rgba(60, 64, 67, 0.15);\n",
              "      fill: #174EA6;\n",
              "    }\n",
              "\n",
              "    [theme=dark] .colab-df-convert {\n",
              "      background-color: #3B4455;\n",
              "      fill: #D2E3FC;\n",
              "    }\n",
              "\n",
              "    [theme=dark] .colab-df-convert:hover {\n",
              "      background-color: #434B5C;\n",
              "      box-shadow: 0px 1px 3px 1px rgba(0, 0, 0, 0.15);\n",
              "      filter: drop-shadow(0px 1px 2px rgba(0, 0, 0, 0.3));\n",
              "      fill: #FFFFFF;\n",
              "    }\n",
              "  </style>\n",
              "\n",
              "      <script>\n",
              "        const buttonEl =\n",
              "          document.querySelector('#df-92384fca-1f29-4c34-ad44-592f1a0dae78 button.colab-df-convert');\n",
              "        buttonEl.style.display =\n",
              "          google.colab.kernel.accessAllowed ? 'block' : 'none';\n",
              "\n",
              "        async function convertToInteractive(key) {\n",
              "          const element = document.querySelector('#df-92384fca-1f29-4c34-ad44-592f1a0dae78');\n",
              "          const dataTable =\n",
              "            await google.colab.kernel.invokeFunction('convertToInteractive',\n",
              "                                                     [key], {});\n",
              "          if (!dataTable) return;\n",
              "\n",
              "          const docLinkHtml = 'Like what you see? Visit the ' +\n",
              "            '<a target=\"_blank\" href=https://colab.research.google.com/notebooks/data_table.ipynb>data table notebook</a>'\n",
              "            + ' to learn more about interactive tables.';\n",
              "          element.innerHTML = '';\n",
              "          dataTable['output_type'] = 'display_data';\n",
              "          await google.colab.output.renderOutput(dataTable, element);\n",
              "          const docLink = document.createElement('div');\n",
              "          docLink.innerHTML = docLinkHtml;\n",
              "          element.appendChild(docLink);\n",
              "        }\n",
              "      </script>\n",
              "    </div>\n",
              "  </div>\n",
              "  "
            ],
            "text/plain": [
              "  Country or region  GDP per capita  ...          sub-region  Terrorist_attacks\n",
              "0      Saudi Arabia           1.403  ...        Western Asia         173.000000\n",
              "1           Georgia           0.886  ...        Western Asia          18.000000\n",
              "2            Guinea           0.380  ...  Sub-Saharan Africa           3.000000\n",
              "3         Lithuania           1.238  ...     Northern Europe         125.611111\n",
              "4       Netherlands           1.396  ...      Western Europe           1.000000\n",
              "\n",
              "[5 rows x 11 columns]"
            ]
          },
          "metadata": {},
          "execution_count": 4
        }
      ]
    },
    {
      "cell_type": "code",
      "source": [
        "# Visulization \n",
        "import matplotlib.pyplot as plt\n",
        "plt.scatter(X_train['Social support'], X_train['GDP per capita'], color = 'violet')"
      ],
      "metadata": {
        "id": "mtmTYsK7id9D",
        "outputId": "65269326-e7da-49b8-f38e-3711aebeb96c",
        "colab": {
          "base_uri": "https://localhost:8080/",
          "height": 285
        }
      },
      "execution_count": null,
      "outputs": [
        {
          "output_type": "execute_result",
          "data": {
            "text/plain": [
              "<matplotlib.collections.PathCollection at 0x7fc8269fef90>"
            ]
          },
          "metadata": {},
          "execution_count": 52
        },
        {
          "output_type": "display_data",
          "data": {
            "image/png": "[encoded data removed]",
            "text/plain": [
              "<Figure size 432x288 with 1 Axes>"
            ]
          },
          "metadata": {
            "needs_background": "light"
          }
        }
      ]
    },
    {
      "cell_type": "code",
      "source": [
        "fig, axes = plt.subplots(2,2)\n",
        "axes[0, 0].scatter(X_train['Healthy life expectancy'], X_train['GDP per capita'])\n",
        "axes[0, 1].scatter(X_train['Freedom to make life choices'], X_train['GDP per capita'], color = 'red')\n",
        "axes[1, 0].scatter(X_train['Generosity'], X_train['GDP per capita'], color = 'green')\n",
        "axes[1, 1].scatter(X_train['Perceptions of corruption'], X_train['GDP per capita'], color = 'purple')"
      ],
      "metadata": {
        "id": "72gcJSlsmk8X",
        "outputId": "36aee1c4-4f3c-4678-9005-879f5459cda5",
        "colab": {
          "base_uri": "https://localhost:8080/",
          "height": 283
        }
      },
      "execution_count": null,
      "outputs": [
        {
          "output_type": "execute_result",
          "data": {
            "text/plain": [
              "<matplotlib.collections.PathCollection at 0x7fc826cafd90>"
            ]
          },
          "metadata": {},
          "execution_count": 57
        },
        {
          "output_type": "display_data",
          "data": {
            "image/png": "[encoded data removed]",
            "text/plain": [
              "<Figure size 432x288 with 4 Axes>"
            ]
          },
          "metadata": {
            "needs_background": "light"
          }
        }
      ]
    },
    {
      "cell_type": "code",
      "source": [
        "fig, axes = plt.subplots(2,2)\n",
        "axes[0, 0].scatter(X_train['Social support'], X_train['Healthy life expectancy'])\n",
        "axes[0, 1].scatter(X_train['Freedom to make life choices'], X_train['Healthy life expectancy'], color = 'red')\n",
        "axes[1, 0].scatter(X_train['Generosity'], X_train['Healthy life expectancy'], color = 'green')\n",
        "axes[1, 1].scatter(X_train['Perceptions of corruption'], X_train['Healthy life expectancy'], color= 'purple')"
      ],
      "metadata": {
        "id": "W3ZOQ-qpoc18",
        "outputId": "eeb360c1-6938-42b3-94a6-1c348782da13",
        "colab": {
          "base_uri": "https://localhost:8080/",
          "height": 283
        }
      },
      "execution_count": null,
      "outputs": [
        {
          "output_type": "execute_result",
          "data": {
            "text/plain": [
              "<matplotlib.collections.PathCollection at 0x7fc827794290>"
            ]
          },
          "metadata": {},
          "execution_count": 55
        },
        {
          "output_type": "display_data",
          "data": {
            "image/png": "[encoded data removed]",
            "text/plain": [
              "<Figure size 432x288 with 4 Axes>"
            ]
          },
          "metadata": {
            "needs_background": "light"
          }
        }
      ]
    },
    {
      "cell_type": "code",
      "source": [
        "fig, axes = plt.subplots(2,2)\n",
        "axes[0, 0].scatter(X_train['Social support'], X_train['Social support'])\n",
        "axes[0, 1].scatter(X_train['Freedom to make life choices'], X_train['Social support'], color = 'red')\n",
        "axes[1, 0].scatter(X_train['Generosity'], X_train['Social support'], color = 'green')\n",
        "axes[1, 1].scatter(X_train['Perceptions of corruption'], X_train['Social support'], color= 'purple')"
      ],
      "metadata": {
        "id": "QizzIlbDbK2E",
        "outputId": "dfa6870a-8995-48af-82a6-0b57d0d26304",
        "colab": {
          "base_uri": "https://localhost:8080/",
          "height": 283
        }
      },
      "execution_count": null,
      "outputs": [
        {
          "output_type": "execute_result",
          "data": {
            "text/plain": [
              "<matplotlib.collections.PathCollection at 0x7f7d7c1d0c10>"
            ]
          },
          "metadata": {},
          "execution_count": 8
        },
        {
          "output_type": "display_data",
          "data": {
            "image/png": "[encoded data removed]",
            "text/plain": [
              "<Figure size 432x288 with 4 Axes>"
            ]
          },
          "metadata": {
            "needs_background": "light"
          }
        }
      ]
    },
    {
      "cell_type": "code",
      "source": [
        "fig, axes = plt.subplots(2,2)\n",
        "axes[0, 0].scatter(X_train['Social support'], X_train['Freedom to make life choices'])\n",
        "axes[0, 1].scatter(X_train['Freedom to make life choices'], X_train['Freedom to make life choices'], color = 'red')\n",
        "axes[1, 0].scatter(X_train['Generosity'], X_train['Freedom to make life choices'], color = 'green')\n",
        "axes[1, 1].scatter(X_train['Perceptions of corruption'], X_train['Freedom to make life choices'], color= 'purple')"
      ],
      "metadata": {
        "id": "2BXlISBkcOpc",
        "outputId": "237a677b-f1e6-4631-82b5-9ddcd9954ec6",
        "colab": {
          "base_uri": "https://localhost:8080/",
          "height": 283
        }
      },
      "execution_count": null,
      "outputs": [
        {
          "output_type": "execute_result",
          "data": {
            "text/plain": [
              "<matplotlib.collections.PathCollection at 0x7f7d7c032290>"
            ]
          },
          "metadata": {},
          "execution_count": 9
        },
        {
          "output_type": "display_data",
          "data": {
            "image/png": "[encoded data removed]",
            "text/plain": [
              "<Figure size 432x288 with 4 Axes>"
            ]
          },
          "metadata": {
            "needs_background": "light"
          }
        }
      ]
    },
    {
      "cell_type": "code",
      "source": [
        "fig, axes = plt.subplots(2,2)\n",
        "axes[0, 0].scatter(X_train['Social support'], X_train['Generosity'])\n",
        "axes[0, 1].scatter(X_train['Freedom to make life choices'], X_train['Generosity'], color = 'red')\n",
        "axes[1, 0].scatter(X_train['Generosity'], X_train['Generosity'], color = 'green')\n",
        "axes[1, 1].scatter(X_train['Perceptions of corruption'], X_train['Generosity'], color= 'purple')"
      ],
      "metadata": {
        "id": "Ae9NUG6icW5N",
        "outputId": "0104eed9-7e0c-4d8d-8a89-37d896a1d184",
        "colab": {
          "base_uri": "https://localhost:8080/",
          "height": 283
        }
      },
      "execution_count": null,
      "outputs": [
        {
          "output_type": "execute_result",
          "data": {
            "text/plain": [
              "<matplotlib.collections.PathCollection at 0x7f7d7bf1bad0>"
            ]
          },
          "metadata": {},
          "execution_count": 10
        },
        {
          "output_type": "display_data",
          "data": {
            "image/png": "[encoded data removed]",
            "text/plain": [
              "<Figure size 432x288 with 4 Axes>"
            ]
          },
          "metadata": {
            "needs_background": "light"
          }
        }
      ]
    },
    {
      "cell_type": "code",
      "source": [
        "fig, axes = plt.subplots(2,2)\n",
        "axes[0, 0].scatter(X_train['Social support'], X_train['Perceptions of corruption'])\n",
        "axes[0, 1].scatter(X_train['Freedom to make life choices'], X_train['Perceptions of corruption'], color = 'red')\n",
        "axes[1, 0].scatter(X_train['Generosity'], X_train['Perceptions of corruption'], color = 'green')\n",
        "axes[1, 1].scatter(X_train['Perceptions of corruption'], X_train['Perceptions of corruption'], color= 'purple')"
      ],
      "metadata": {
        "id": "s-F-QyNcce9n",
        "outputId": "7b48d7ad-657e-4add-cb80-a9454be5d914",
        "colab": {
          "base_uri": "https://localhost:8080/",
          "height": 283
        }
      },
      "execution_count": null,
      "outputs": [
        {
          "output_type": "execute_result",
          "data": {
            "text/plain": [
              "<matplotlib.collections.PathCollection at 0x7f7d7bee2a90>"
            ]
          },
          "metadata": {},
          "execution_count": 11
        },
        {
          "output_type": "display_data",
          "data": {
            "image/png": "[encoded data removed]",
            "text/plain": [
              "<Figure size 432x288 with 4 Axes>"
            ]
          },
          "metadata": {
            "needs_background": "light"
          }
        }
      ]
    },
    {
      "cell_type": "markdown",
      "source": [
        "### From the graphs above, I found one linear relation between GDP per capita and healthy life expectancy, one log relation between perceptions of corruption and freedom to make life choices."
      ],
      "metadata": {
        "id": "IuF0O-xWczdu"
      }
    },
    {
      "cell_type": "code",
      "metadata": {
        "id": "16QV9Y9TC3B3"
      },
      "source": [
        "# preprocess data\n",
        "from sklearn.preprocessing import StandardScaler, OneHotEncoder\n",
        "from sklearn.compose import ColumnTransformer, make_column_transformer\n",
        "from sklearn.pipeline import Pipeline\n",
        "from sklearn.impute import SimpleImputer\n",
        "from sklearn.preprocessing import StandardScaler, OneHotEncoder\n",
        "\n",
        "numeric_features = X_train.drop(['Country or region', 'name', 'region', 'sub-region'], axis=1)\n",
        "numeric_features=numeric_features.columns.tolist()\n",
        "\n",
        "numeric_transformer = Pipeline(steps=[\n",
        "    ('imputer', SimpleImputer(strategy='median')),\n",
        "    ('scaler', StandardScaler())])\n",
        "\n",
        "categorical_features = ['region', 'sub-region']\n",
        "\n",
        "\n",
        "categorical_transformer = Pipeline(steps=[\n",
        "    ('imputer', SimpleImputer(strategy='most_frequent')),\n",
        "    ('onehot', OneHotEncoder(handle_unknown='ignore'))])\n",
        "\n",
        "\n",
        "preprocessor = ColumnTransformer(\n",
        "    transformers=[\n",
        "        ('num', numeric_transformer, numeric_features),\n",
        "        ('cat', categorical_transformer, categorical_features)])\n",
        "\n",
        "\n",
        "preprocess=preprocessor.fit(X_train) "
      ],
      "execution_count": null,
      "outputs": []
    },
    {
      "cell_type": "markdown",
      "source": [
        "## 2. Examine features that predict happiness categories using one or more models that allow for automatic feature selection. -- Explain any meaningful findings"
      ],
      "metadata": {
        "id": "YeACazXEgRmP"
      }
    },
    {
      "cell_type": "markdown",
      "source": [
        "### Feature Elimination with PCA"
      ],
      "metadata": {
        "id": "CGqwHtPIxNiN"
      }
    },
    {
      "cell_type": "code",
      "source": [
        "import numpy as np\n",
        "X = X_train.drop(['Country or region', 'name', 'region', 'sub-region'], axis=1)\n",
        "print(X)"
      ],
      "metadata": {
        "id": "x036Py1oy0Md",
        "outputId": "f1a5213a-7fd4-4251-eedd-4357eca6f5d8",
        "colab": {
          "base_uri": "https://localhost:8080/"
        }
      },
      "execution_count": null,
      "outputs": [
        {
          "output_type": "stream",
          "name": "stdout",
          "text": [
            "     GDP per capita  ...  Terrorist_attacks\n",
            "0             1.403  ...         173.000000\n",
            "1             0.886  ...          18.000000\n",
            "2             0.380  ...           3.000000\n",
            "3             1.238  ...         125.611111\n",
            "4             1.396  ...           1.000000\n",
            "..              ...  ...                ...\n",
            "99            1.044  ...        1448.000000\n",
            "100           0.947  ...           9.000000\n",
            "101           1.333  ...         339.000000\n",
            "102           1.029  ...          37.000000\n",
            "103           0.673  ...         122.000000\n",
            "\n",
            "[104 rows x 7 columns]\n"
          ]
        }
      ]
    },
    {
      "cell_type": "code",
      "source": [
        "from sklearn.decomposition import PCA\n",
        "from sklearn.preprocessing import scale \n",
        "pca_loadings = pd.DataFrame(PCA().fit(X).components_.T, index=X.columns)\n",
        "pca_loadings"
      ],
      "metadata": {
        "id": "GFkhV50AtDfM",
        "outputId": "0ff6433b-c9fd-43ad-9b1b-0f70b62e39c8",
        "colab": {
          "base_uri": "https://localhost:8080/",
          "height": 269
        }
      },
      "execution_count": null,
      "outputs": [
        {
          "output_type": "execute_result",
          "data": {
            "text/html": [
              "\n",
              "  <div id=\"df-8a5213d6-431e-4386-992a-7ed5ed64ff62\">\n",
              "    <div class=\"colab-df-container\">\n",
              "      <div>\n",
              "<style scoped>\n",
              "    .dataframe tbody tr th:only-of-type {\n",
              "        vertical-align: middle;\n",
              "    }\n",
              "\n",
              "    .dataframe tbody tr th {\n",
              "        vertical-align: top;\n",
              "    }\n",
              "\n",
              "    .dataframe thead th {\n",
              "        text-align: right;\n",
              "    }\n",
              "</style>\n",
              "<table border=\"1\" class=\"dataframe\">\n",
              "  <thead>\n",
              "    <tr style=\"text-align: right;\">\n",
              "      <th></th>\n",
              "      <th>0</th>\n",
              "      <th>1</th>\n",
              "      <th>2</th>\n",
              "      <th>3</th>\n",
              "      <th>4</th>\n",
              "      <th>5</th>\n",
              "      <th>6</th>\n",
              "    </tr>\n",
              "  </thead>\n",
              "  <tbody>\n",
              "    <tr>\n",
              "      <th>GDP per capita</th>\n",
              "      <td>-0.000214</td>\n",
              "      <td>-0.768106</td>\n",
              "      <td>0.484213</td>\n",
              "      <td>0.055826</td>\n",
              "      <td>0.403047</td>\n",
              "      <td>0.087068</td>\n",
              "      <td>0.049050</td>\n",
              "    </tr>\n",
              "    <tr>\n",
              "      <th>Social support</th>\n",
              "      <td>-0.000163</td>\n",
              "      <td>-0.491913</td>\n",
              "      <td>-0.770247</td>\n",
              "      <td>-0.373249</td>\n",
              "      <td>0.022903</td>\n",
              "      <td>0.128709</td>\n",
              "      <td>-0.091300</td>\n",
              "    </tr>\n",
              "    <tr>\n",
              "      <th>Healthy life expectancy</th>\n",
              "      <td>-0.000138</td>\n",
              "      <td>-0.385470</td>\n",
              "      <td>0.137250</td>\n",
              "      <td>0.077744</td>\n",
              "      <td>-0.881866</td>\n",
              "      <td>-0.192567</td>\n",
              "      <td>0.108452</td>\n",
              "    </tr>\n",
              "    <tr>\n",
              "      <th>Freedom to make life choices</th>\n",
              "      <td>-0.000073</td>\n",
              "      <td>-0.120445</td>\n",
              "      <td>-0.364215</td>\n",
              "      <td>0.677474</td>\n",
              "      <td>0.203597</td>\n",
              "      <td>-0.545641</td>\n",
              "      <td>0.233866</td>\n",
              "    </tr>\n",
              "    <tr>\n",
              "      <th>Generosity</th>\n",
              "      <td>0.000008</td>\n",
              "      <td>0.008481</td>\n",
              "      <td>-0.136480</td>\n",
              "      <td>0.416000</td>\n",
              "      <td>-0.098962</td>\n",
              "      <td>0.766010</td>\n",
              "      <td>0.460088</td>\n",
              "    </tr>\n",
              "    <tr>\n",
              "      <th>Perceptions of corruption</th>\n",
              "      <td>-0.000020</td>\n",
              "      <td>-0.069769</td>\n",
              "      <td>-0.046261</td>\n",
              "      <td>0.468506</td>\n",
              "      <td>-0.089979</td>\n",
              "      <td>0.232972</td>\n",
              "      <td>-0.843281</td>\n",
              "    </tr>\n",
              "    <tr>\n",
              "      <th>Terrorist_attacks</th>\n",
              "      <td>1.000000</td>\n",
              "      <td>-0.000308</td>\n",
              "      <td>-0.000030</td>\n",
              "      <td>0.000017</td>\n",
              "      <td>-0.000018</td>\n",
              "      <td>-0.000028</td>\n",
              "      <td>0.000008</td>\n",
              "    </tr>\n",
              "  </tbody>\n",
              "</table>\n",
              "</div>\n",
              "      <button class=\"colab-df-convert\" onclick=\"convertToInteractive('df-8a5213d6-431e-4386-992a-7ed5ed64ff62')\"\n",
              "              title=\"Convert this dataframe to an interactive table.\"\n",
              "              style=\"display:none;\">\n",
              "        \n",
              "  <svg xmlns=\"http://www.w3.org/2000/svg\" height=\"24px\"viewBox=\"0 0 24 24\"\n",
              "       width=\"24px\">\n",
              "    <path d=\"M0 0h24v24H0V0z\" fill=\"none\"/>\n",
              "    <path d=\"M18.56 5.44l.94 2.06.94-2.06 2.06-.94-2.06-.94-.94-2.06-.94 2.06-2.06.94zm-11 1L8.5 8.5l.94-2.06 2.06-.94-2.06-.94L8.5 2.5l-.94 2.06-2.06.94zm10 10l.94 2.06.94-2.06 2.06-.94-2.06-.94-.94-2.06-.94 2.06-2.06.94z\"/><path d=\"M17.41 7.96l-1.37-1.37c-.4-.4-.92-.59-1.43-.59-.52 0-1.04.2-1.43.59L10.3 9.45l-7.72 7.72c-.78.78-.78 2.05 0 2.83L4 21.41c.39.39.9.59 1.41.59.51 0 1.02-.2 1.41-.59l7.78-7.78 2.81-2.81c.8-.78.8-2.07 0-2.86zM5.41 20L4 18.59l7.72-7.72 1.47 1.35L5.41 20z\"/>\n",
              "  </svg>\n",
              "      </button>\n",
              "      \n",
              "  <style>\n",
              "    .colab-df-container {\n",
              "      display:flex;\n",
              "      flex-wrap:wrap;\n",
              "      gap: 12px;\n",
              "    }\n",
              "\n",
              "    .colab-df-convert {\n",
              "      background-color: #E8F0FE;\n",
              "      border: none;\n",
              "      border-radius: 50%;\n",
              "      cursor: pointer;\n",
              "      display: none;\n",
              "      fill: #1967D2;\n",
              "      height: 32px;\n",
              "      padding: 0 0 0 0;\n",
              "      width: 32px;\n",
              "    }\n",
              "\n",
              "    .colab-df-convert:hover {\n",
              "      background-color: #E2EBFA;\n",
              "      box-shadow: 0px 1px 2px rgba(60, 64, 67, 0.3), 0px 1px 3px 1px rgba(60, 64, 67, 0.15);\n",
              "      fill: #174EA6;\n",
              "    }\n",
              "\n",
              "    [theme=dark] .colab-df-convert {\n",
              "      background-color: #3B4455;\n",
              "      fill: #D2E3FC;\n",
              "    }\n",
              "\n",
              "    [theme=dark] .colab-df-convert:hover {\n",
              "      background-color: #434B5C;\n",
              "      box-shadow: 0px 1px 3px 1px rgba(0, 0, 0, 0.15);\n",
              "      filter: drop-shadow(0px 1px 2px rgba(0, 0, 0, 0.3));\n",
              "      fill: #FFFFFF;\n",
              "    }\n",
              "  </style>\n",
              "\n",
              "      <script>\n",
              "        const buttonEl =\n",
              "          document.querySelector('#df-8a5213d6-431e-4386-992a-7ed5ed64ff62 button.colab-df-convert');\n",
              "        buttonEl.style.display =\n",
              "          google.colab.kernel.accessAllowed ? 'block' : 'none';\n",
              "\n",
              "        async function convertToInteractive(key) {\n",
              "          const element = document.querySelector('#df-8a5213d6-431e-4386-992a-7ed5ed64ff62');\n",
              "          const dataTable =\n",
              "            await google.colab.kernel.invokeFunction('convertToInteractive',\n",
              "                                                     [key], {});\n",
              "          if (!dataTable) return;\n",
              "\n",
              "          const docLinkHtml = 'Like what you see? Visit the ' +\n",
              "            '<a target=\"_blank\" href=https://colab.research.google.com/notebooks/data_table.ipynb>data table notebook</a>'\n",
              "            + ' to learn more about interactive tables.';\n",
              "          element.innerHTML = '';\n",
              "          dataTable['output_type'] = 'display_data';\n",
              "          await google.colab.output.renderOutput(dataTable, element);\n",
              "          const docLink = document.createElement('div');\n",
              "          docLink.innerHTML = docLinkHtml;\n",
              "          element.appendChild(docLink);\n",
              "        }\n",
              "      </script>\n",
              "    </div>\n",
              "  </div>\n",
              "  "
            ],
            "text/plain": [
              "                                     0         1  ...         5         6\n",
              "GDP per capita               -0.000214 -0.768106  ...  0.087068  0.049050\n",
              "Social support               -0.000163 -0.491913  ...  0.128709 -0.091300\n",
              "Healthy life expectancy      -0.000138 -0.385470  ... -0.192567  0.108452\n",
              "Freedom to make life choices -0.000073 -0.120445  ... -0.545641  0.233866\n",
              "Generosity                    0.000008  0.008481  ...  0.766010  0.460088\n",
              "Perceptions of corruption    -0.000020 -0.069769  ...  0.232972 -0.843281\n",
              "Terrorist_attacks             1.000000 -0.000308  ... -0.000028  0.000008\n",
              "\n",
              "[7 rows x 7 columns]"
            ]
          },
          "metadata": {},
          "execution_count": 72
        }
      ]
    },
    {
      "cell_type": "code",
      "source": [
        "pca = PCA()\n",
        "df_plot = pd.DataFrame(pca.fit_transform(X), index=X.index)\n",
        "df_plot.iloc[:,0:2]"
      ],
      "metadata": {
        "id": "R4N3wVmX0eQk",
        "outputId": "9c82962d-70f7-4a05-c844-9d3d934b4eac",
        "colab": {
          "base_uri": "https://localhost:8080/",
          "height": 423
        }
      },
      "execution_count": null,
      "outputs": [
        {
          "output_type": "execute_result",
          "data": {
            "text/html": [
              "\n",
              "  <div id=\"df-bd800b7d-40aa-4696-809a-9fed07d40c4c\">\n",
              "    <div class=\"colab-df-container\">\n",
              "      <div>\n",
              "<style scoped>\n",
              "    .dataframe tbody tr th:only-of-type {\n",
              "        vertical-align: middle;\n",
              "    }\n",
              "\n",
              "    .dataframe tbody tr th {\n",
              "        vertical-align: top;\n",
              "    }\n",
              "\n",
              "    .dataframe thead th {\n",
              "        text-align: right;\n",
              "    }\n",
              "</style>\n",
              "<table border=\"1\" class=\"dataframe\">\n",
              "  <thead>\n",
              "    <tr style=\"text-align: right;\">\n",
              "      <th></th>\n",
              "      <th>0</th>\n",
              "      <th>1</th>\n",
              "    </tr>\n",
              "  </thead>\n",
              "  <tbody>\n",
              "    <tr>\n",
              "      <th>0</th>\n",
              "      <td>-133.168034</td>\n",
              "      <td>-0.441718</td>\n",
              "    </tr>\n",
              "    <tr>\n",
              "      <th>1</th>\n",
              "      <td>-288.167791</td>\n",
              "      <td>0.368304</td>\n",
              "    </tr>\n",
              "    <tr>\n",
              "      <th>2</th>\n",
              "      <td>-303.167653</td>\n",
              "      <td>0.835248</td>\n",
              "    </tr>\n",
              "    <tr>\n",
              "      <th>3</th>\n",
              "      <td>-180.556902</td>\n",
              "      <td>-0.363173</td>\n",
              "    </tr>\n",
              "    <tr>\n",
              "      <th>4</th>\n",
              "      <td>-305.168089</td>\n",
              "      <td>-0.566877</td>\n",
              "    </tr>\n",
              "    <tr>\n",
              "      <th>...</th>\n",
              "      <td>...</td>\n",
              "      <td>...</td>\n",
              "    </tr>\n",
              "    <tr>\n",
              "      <th>99</th>\n",
              "      <td>1141.832008</td>\n",
              "      <td>-0.483495</td>\n",
              "    </tr>\n",
              "    <tr>\n",
              "      <th>100</th>\n",
              "      <td>-297.167849</td>\n",
              "      <td>0.193914</td>\n",
              "    </tr>\n",
              "    <tr>\n",
              "      <th>101</th>\n",
              "      <td>32.831914</td>\n",
              "      <td>-0.614865</td>\n",
              "    </tr>\n",
              "    <tr>\n",
              "      <th>102</th>\n",
              "      <td>-269.167928</td>\n",
              "      <td>-0.044016</td>\n",
              "    </tr>\n",
              "    <tr>\n",
              "      <th>103</th>\n",
              "      <td>-184.167739</td>\n",
              "      <td>0.530837</td>\n",
              "    </tr>\n",
              "  </tbody>\n",
              "</table>\n",
              "<p>104 rows × 2 columns</p>\n",
              "</div>\n",
              "      <button class=\"colab-df-convert\" onclick=\"convertToInteractive('df-bd800b7d-40aa-4696-809a-9fed07d40c4c')\"\n",
              "              title=\"Convert this dataframe to an interactive table.\"\n",
              "              style=\"display:none;\">\n",
              "        \n",
              "  <svg xmlns=\"http://www.w3.org/2000/svg\" height=\"24px\"viewBox=\"0 0 24 24\"\n",
              "       width=\"24px\">\n",
              "    <path d=\"M0 0h24v24H0V0z\" fill=\"none\"/>\n",
              "    <path d=\"M18.56 5.44l.94 2.06.94-2.06 2.06-.94-2.06-.94-.94-2.06-.94 2.06-2.06.94zm-11 1L8.5 8.5l.94-2.06 2.06-.94-2.06-.94L8.5 2.5l-.94 2.06-2.06.94zm10 10l.94 2.06.94-2.06 2.06-.94-2.06-.94-.94-2.06-.94 2.06-2.06.94z\"/><path d=\"M17.41 7.96l-1.37-1.37c-.4-.4-.92-.59-1.43-.59-.52 0-1.04.2-1.43.59L10.3 9.45l-7.72 7.72c-.78.78-.78 2.05 0 2.83L4 21.41c.39.39.9.59 1.41.59.51 0 1.02-.2 1.41-.59l7.78-7.78 2.81-2.81c.8-.78.8-2.07 0-2.86zM5.41 20L4 18.59l7.72-7.72 1.47 1.35L5.41 20z\"/>\n",
              "  </svg>\n",
              "      </button>\n",
              "      \n",
              "  <style>\n",
              "    .colab-df-container {\n",
              "      display:flex;\n",
              "      flex-wrap:wrap;\n",
              "      gap: 12px;\n",
              "    }\n",
              "\n",
              "    .colab-df-convert {\n",
              "      background-color: #E8F0FE;\n",
              "      border: none;\n",
              "      border-radius: 50%;\n",
              "      cursor: pointer;\n",
              "      display: none;\n",
              "      fill: #1967D2;\n",
              "      height: 32px;\n",
              "      padding: 0 0 0 0;\n",
              "      width: 32px;\n",
              "    }\n",
              "\n",
              "    .colab-df-convert:hover {\n",
              "      background-color: #E2EBFA;\n",
              "      box-shadow: 0px 1px 2px rgba(60, 64, 67, 0.3), 0px 1px 3px 1px rgba(60, 64, 67, 0.15);\n",
              "      fill: #174EA6;\n",
              "    }\n",
              "\n",
              "    [theme=dark] .colab-df-convert {\n",
              "      background-color: #3B4455;\n",
              "      fill: #D2E3FC;\n",
              "    }\n",
              "\n",
              "    [theme=dark] .colab-df-convert:hover {\n",
              "      background-color: #434B5C;\n",
              "      box-shadow: 0px 1px 3px 1px rgba(0, 0, 0, 0.15);\n",
              "      filter: drop-shadow(0px 1px 2px rgba(0, 0, 0, 0.3));\n",
              "      fill: #FFFFFF;\n",
              "    }\n",
              "  </style>\n",
              "\n",
              "      <script>\n",
              "        const buttonEl =\n",
              "          document.querySelector('#df-bd800b7d-40aa-4696-809a-9fed07d40c4c button.colab-df-convert');\n",
              "        buttonEl.style.display =\n",
              "          google.colab.kernel.accessAllowed ? 'block' : 'none';\n",
              "\n",
              "        async function convertToInteractive(key) {\n",
              "          const element = document.querySelector('#df-bd800b7d-40aa-4696-809a-9fed07d40c4c');\n",
              "          const dataTable =\n",
              "            await google.colab.kernel.invokeFunction('convertToInteractive',\n",
              "                                                     [key], {});\n",
              "          if (!dataTable) return;\n",
              "\n",
              "          const docLinkHtml = 'Like what you see? Visit the ' +\n",
              "            '<a target=\"_blank\" href=https://colab.research.google.com/notebooks/data_table.ipynb>data table notebook</a>'\n",
              "            + ' to learn more about interactive tables.';\n",
              "          element.innerHTML = '';\n",
              "          dataTable['output_type'] = 'display_data';\n",
              "          await google.colab.output.renderOutput(dataTable, element);\n",
              "          const docLink = document.createElement('div');\n",
              "          docLink.innerHTML = docLinkHtml;\n",
              "          element.appendChild(docLink);\n",
              "        }\n",
              "      </script>\n",
              "    </div>\n",
              "  </div>\n",
              "  "
            ],
            "text/plain": [
              "               0         1\n",
              "0    -133.168034 -0.441718\n",
              "1    -288.167791  0.368304\n",
              "2    -303.167653  0.835248\n",
              "3    -180.556902 -0.363173\n",
              "4    -305.168089 -0.566877\n",
              "..           ...       ...\n",
              "99   1141.832008 -0.483495\n",
              "100  -297.167849  0.193914\n",
              "101    32.831914 -0.614865\n",
              "102  -269.167928 -0.044016\n",
              "103  -184.167739  0.530837\n",
              "\n",
              "[104 rows x 2 columns]"
            ]
          },
          "metadata": {},
          "execution_count": 73
        }
      ]
    },
    {
      "cell_type": "code",
      "source": [
        "np.sqrt(pca.explained_variance_)\n",
        "pca.explained_variance_\n",
        "pca.explained_variance_ratio_"
      ],
      "metadata": {
        "id": "QWs7RBp20fiL",
        "outputId": "1620c87a-668e-4c2a-8b7d-e86b001953fe",
        "colab": {
          "base_uri": "https://localhost:8080/"
        }
      },
      "execution_count": null,
      "outputs": [
        {
          "output_type": "execute_result",
          "data": {
            "text/plain": [
              "array([9.99999396e-01, 4.55477550e-07, 6.10827131e-08, 4.11156647e-08,\n",
              "       2.18103031e-08, 1.41655152e-08, 1.06671951e-08])"
            ]
          },
          "metadata": {},
          "execution_count": 74
        }
      ]
    },
    {
      "cell_type": "markdown",
      "source": [
        "PCA does not indicate any clear signs on feature elimination. The first explained less than 0.1% of the variance. "
      ],
      "metadata": {
        "id": "h7bqMO41gcK8"
      }
    },
    {
      "cell_type": "markdown",
      "source": [
        "##3. Run at least three prediction models to try to predict World Happiness well. -- Discuss which models performed better and point out relevant hyper-parameter values for successful models."
      ],
      "metadata": {
        "id": "zp_eINCYpeuZ"
      }
    },
    {
      "cell_type": "code",
      "source": [
        "def preprocessor(data):\n",
        "    data.drop(['Country or region', 'name'], axis=1)\n",
        "    preprocessed_data=preprocess.transform(data)\n",
        "    return preprocessed_data"
      ],
      "metadata": {
        "id": "S_PaNOG0SUIk"
      },
      "execution_count": null,
      "outputs": []
    },
    {
      "cell_type": "code",
      "source": [
        "preprocessor(X_train).shape"
      ],
      "metadata": {
        "colab": {
          "base_uri": "https://localhost:8080/"
        },
        "id": "a1IPy9xvSWBp",
        "outputId": "affbd7be-eafa-4abf-8e10-651526c9adf1"
      },
      "execution_count": null,
      "outputs": [
        {
          "output_type": "execute_result",
          "data": {
            "text/plain": [
              "(104, 26)"
            ]
          },
          "metadata": {},
          "execution_count": 11
        }
      ]
    },
    {
      "cell_type": "markdown",
      "source": [
        "### Model 1: Random Forest"
      ],
      "metadata": {
        "id": "55iFThIXubXl"
      }
    },
    {
      "cell_type": "code",
      "metadata": {
        "colab": {
          "base_uri": "https://localhost:8080/"
        },
        "id": "NCbBf8j9ClYl",
        "outputId": "2497523a-bae1-449b-ddc6-fbf7fa681f20"
      },
      "source": [
        "# random forest classifier \n",
        "from sklearn.ensemble import RandomForestClassifier\n",
        "\n",
        "model = RandomForestClassifier(n_estimators=1000, max_depth=5)\n",
        "model.fit(preprocessor(X_train), y_train_labels) \n",
        "model.score(preprocessor(X_train), y_train_labels) "
      ],
      "execution_count": null,
      "outputs": [
        {
          "output_type": "execute_result",
          "data": {
            "text/plain": [
              "0.9615384615384616"
            ]
          },
          "metadata": {},
          "execution_count": 17
        }
      ]
    },
    {
      "cell_type": "code",
      "metadata": {
        "colab": {
          "base_uri": "https://localhost:8080/"
        },
        "id": "4VGacc0LDaMA",
        "outputId": "52e8f23f-c0be-4d5a-a351-f48314b98184"
      },
      "source": [
        "import aimodelshare as ai\n",
        "ai.export_preprocessor(preprocessor,\"\") "
      ],
      "execution_count": null,
      "outputs": [
        {
          "output_type": "stream",
          "name": "stdout",
          "text": [
            "Your preprocessor is now saved to 'preprocessor.zip'\n"
          ]
        }
      ]
    },
    {
      "cell_type": "code",
      "metadata": {
        "id": "pEhvnRiQDlY5"
      },
      "source": [
        "\n",
        "from aimodelshare.aimsonnx import model_to_onnx\n",
        "from skl2onnx.common.data_types import FloatTensorType\n",
        "\n",
        "feature_count=preprocessor(X_test).shape[1] \n",
        "initial_type = [('float_input', FloatTensorType([None, feature_count]))] \n",
        "\n",
        "onnx_model = model_to_onnx(model, framework='sklearn',\n",
        "                          initial_types=initial_type,\n",
        "                          transfer_learning=False,\n",
        "                          deep_learning=False)\n",
        "\n",
        "with open(\"model.onnx\", \"wb\") as f:\n",
        "    f.write(onnx_model.SerializeToString())"
      ],
      "execution_count": null,
      "outputs": []
    },
    {
      "cell_type": "code",
      "metadata": {
        "colab": {
          "base_uri": "https://localhost:8080/"
        },
        "id": "RtgkM02MDpkO",
        "outputId": "337dea21-f852-431c-fee7-201e645724eb"
      },
      "source": [
        "from aimodelshare.aws import set_credentials\n",
        "apiurl=\"https://c3maq947kb.execute-api.us-east-1.amazonaws.com/prod/m\"\n",
        "\n",
        "set_credentials(apiurl=apiurl)"
      ],
      "execution_count": null,
      "outputs": [
        {
          "output_type": "stream",
          "name": "stdout",
          "text": [
            "AI Modelshare Username:··········\n",
            "AI Modelshare Password:··········\n",
            "AI Model Share login credentials set successfully.\n"
          ]
        }
      ]
    },
    {
      "cell_type": "code",
      "metadata": {
        "id": "fKNGSww8EGgi"
      },
      "source": [
        "import aimodelshare as ai\n",
        "mycompetition= ai.Competition(apiurl)"
      ],
      "execution_count": null,
      "outputs": []
    },
    {
      "cell_type": "code",
      "metadata": {
        "id": "_Ql4wksyEUnP",
        "colab": {
          "base_uri": "https://localhost:8080/"
        },
        "outputId": "4836f59d-d185-44ef-af1a-a23d5cab8255"
      },
      "source": [
        "prediction_labels = model.predict(preprocessor(X_test))\n",
        "\n",
        "mycompetition.submit_model(model_filepath = \"model.onnx\",\n",
        "                                 preprocessor_filepath=\"preprocessor.zip\",\n",
        "                                 prediction_submission=prediction_labels)"
      ],
      "execution_count": null,
      "outputs": [
        {
          "output_type": "stream",
          "name": "stdout",
          "text": [
            "Insert search tags to help users find your model (optional): randomforest\n",
            "Provide any useful notes about your model (optional): randomforest\n",
            "\n",
            "Your model has been submitted as model version 45\n",
            "\n",
            "To submit code used to create this model or to view current leaderboard navigate to Model Playground: \n",
            "\n",
            " https://www.modelshare.org/detail/model:1289\n"
          ]
        }
      ]
    },
    {
      "cell_type": "code",
      "metadata": {
        "id": "GN1zvAmNEq17"
      },
      "source": [
        "data = mycompetition.get_leaderboard()\n",
        "mycompetition.stylize_leaderboard(data)"
      ],
      "execution_count": null,
      "outputs": []
    },
    {
      "cell_type": "markdown",
      "source": [
        "### Tuning parameters to improve the prediction\n",
        "#### I tuned the n_estimators and max_depth."
      ],
      "metadata": {
        "id": "uL7zAsJD05AX"
      }
    },
    {
      "cell_type": "code",
      "metadata": {
        "colab": {
          "base_uri": "https://localhost:8080/"
        },
        "id": "FgSs5PAtPCZH",
        "outputId": "5f03a32f-223c-4fb6-fd7b-347fa4751d9b"
      },
      "source": [
        "from sklearn.ensemble import RandomForestClassifier\n",
        "\n",
        "model_2 = RandomForestClassifier(n_estimators=1000, max_depth=5)\n",
        "model_2.fit(preprocessor(X_train), y_train_labels) # Fitting to the training set.\n",
        "model_2.score(preprocessor(X_train), y_train_labels) # Fit score, 0-1 scale."
      ],
      "execution_count": null,
      "outputs": [
        {
          "output_type": "execute_result",
          "data": {
            "text/plain": [
              "0.9615384615384616"
            ]
          },
          "metadata": {},
          "execution_count": 14
        }
      ]
    },
    {
      "cell_type": "code",
      "metadata": {
        "id": "aIdmSpYVPYAw"
      },
      "source": [
        "from aimodelshare.aimsonnx import model_to_onnx\n",
        "\n",
        "feature_count=preprocessor(X_test).shape[1] \n",
        "initial_type = [('float_input', FloatTensorType([None, feature_count]))]  \n",
        "\n",
        "onnx_model = model_to_onnx(model_2, framework='sklearn',\n",
        "                          initial_types=initial_type,\n",
        "                          transfer_learning=False,\n",
        "                          deep_learning=False)\n",
        "\n",
        "with open(\"model2.onnx\", \"wb\") as f:\n",
        "    f.write(onnx_model.SerializeToString())"
      ],
      "execution_count": null,
      "outputs": []
    },
    {
      "cell_type": "code",
      "metadata": {
        "colab": {
          "base_uri": "https://localhost:8080/"
        },
        "id": "nszPPrfwPlUk",
        "outputId": "4051c60d-226f-4d85-cd82-17488c5dd4bb"
      },
      "source": [
        "prediction_labels = model_2.predict(preprocessor(X_test))\n",
        "mycompetition.submit_model(model_filepath = \"model2.onnx\",\n",
        "                                 prediction_submission=prediction_labels,\n",
        "                                 preprocessor_filepath=\"preprocessor.zip\")"
      ],
      "execution_count": null,
      "outputs": [
        {
          "output_type": "stream",
          "name": "stdout",
          "text": [
            "Insert search tags to help users find your model (optional): \n",
            "Provide any useful notes about your model (optional): \n",
            "\n",
            "Your model has been submitted as model version 3\n",
            "\n",
            "To submit code used to create this model or to view current leaderboard navigate to Model Playground: \n",
            "\n",
            " https://www.modelshare.org/detail/model:1289\n"
          ]
        }
      ]
    },
    {
      "cell_type": "markdown",
      "source": [
        "## Model 2: Cross Validation with GridSearchCV"
      ],
      "metadata": {
        "id": "wBuRBT0K0asW"
      }
    },
    {
      "cell_type": "code",
      "metadata": {
        "colab": {
          "base_uri": "https://localhost:8080/"
        },
        "id": "6Go4SF37Ex_Z",
        "outputId": "d84836d0-b4b2-4443-8034-f09164936c65"
      },
      "source": [
        "from sklearn.ensemble import RandomForestClassifier\n",
        "from sklearn.model_selection import GridSearchCV\n",
        "import numpy as np\n",
        "\n",
        "param_grid = {'n_estimators': np.arange(100, 300, 500),'max_depth':[1, 3, 5]} \n",
        "gridmodel = GridSearchCV(RandomForestClassifier(), param_grid=param_grid, cv=10)\n",
        "\n",
        "gridmodel.fit(preprocessor(X_train), y_train_labels)\n",
        "\n",
        "print(\"best mean cross-validation score: {:.3f}\".format(gridmodel.best_score_))\n",
        "print(\"best parameters: {}\".format(gridmodel.best_params_))\n"
      ],
      "execution_count": null,
      "outputs": [
        {
          "output_type": "stream",
          "name": "stdout",
          "text": [
            "best mean cross-validation score: 0.626\n",
            "best parameters: {'max_depth': 5, 'n_estimators': 100}\n"
          ]
        }
      ]
    },
    {
      "cell_type": "code",
      "metadata": {
        "id": "HvLuIvOjHLH2"
      },
      "source": [
        "from aimodelshare.aimsonnx import model_to_onnx\n",
        "\n",
        "feature_count=preprocessor(X_test).shape[1] \n",
        "initial_type = [('float_input', FloatTensorType([None, feature_count]))]  \n",
        "\n",
        "onnx_model = model_to_onnx(gridmodel, framework='sklearn',\n",
        "                          initial_types=initial_type,\n",
        "                          transfer_learning=False,\n",
        "                          deep_learning=False)\n",
        "\n",
        "with open(\"gridmodel.onnx\", \"wb\") as f:\n",
        "    f.write(onnx_model.SerializeToString())"
      ],
      "execution_count": null,
      "outputs": []
    },
    {
      "cell_type": "code",
      "metadata": {
        "colab": {
          "base_uri": "https://localhost:8080/"
        },
        "id": "sMidHABfHVN7",
        "outputId": "0a1b93a7-51fb-4a98-86cc-7e8f1907c975"
      },
      "source": [
        "prediction_labels = gridmodel.predict(preprocessor(X_test))\n",
        "\n",
        "mycompetition.submit_model(model_filepath = \"gridmodel.onnx\",\n",
        "                                 preprocessor_filepath=\"preprocessor.zip\",\n",
        "                                 prediction_submission=prediction_labels)"
      ],
      "execution_count": null,
      "outputs": [
        {
          "output_type": "stream",
          "name": "stdout",
          "text": [
            "Insert search tags to help users find your model (optional): \n",
            "Provide any useful notes about your model (optional): \n",
            "\n",
            "Your model has been submitted as model version 4\n",
            "\n",
            "To submit code used to create this model or to view current leaderboard navigate to Model Playground: \n",
            "\n",
            " https://www.modelshare.org/detail/model:1289\n"
          ]
        }
      ]
    },
    {
      "cell_type": "code",
      "metadata": {
        "colab": {
          "base_uri": "https://localhost:8080/",
          "height": 274
        },
        "id": "hn-Tp-zpJVGT",
        "outputId": "ec6b40d3-7405-4507-b7e7-ac8b16def98e"
      },
      "source": [
        "data = mycompetition.get_leaderboard()\n",
        "mycompetition.stylize_leaderboard(data)"
      ],
      "execution_count": null,
      "outputs": [
        {
          "output_type": "execute_result",
          "data": {
            "text/html": [
              "<style  type=\"text/css\" >\n",
              "#T_d3087d9e_7ed7_11ec_8c3a_0242ac1c0002row0_col0{\n",
              "            text-align:  center;\n",
              "            width:  10em;\n",
              "             height:  80%;\n",
              "            background:  linear-gradient(90deg,#f5f8d6 50.0%, transparent 50.0%);\n",
              "            color:  #251e1b;\n",
              "            font-size:  12px;\n",
              "        }#T_d3087d9e_7ed7_11ec_8c3a_0242ac1c0002row0_col1{\n",
              "            text-align:  center;\n",
              "            width:  10em;\n",
              "             height:  80%;\n",
              "            background:  linear-gradient(90deg,#c778c8 50.1%, transparent 50.1%);\n",
              "            color:  #251e1b;\n",
              "            font-size:  12px;\n",
              "        }#T_d3087d9e_7ed7_11ec_8c3a_0242ac1c0002row0_col2{\n",
              "            text-align:  center;\n",
              "            width:  10em;\n",
              "             height:  80%;\n",
              "            background:  linear-gradient(90deg,#ff4971 56.0%, transparent 56.0%);\n",
              "            color:  #251e1b;\n",
              "            font-size:  12px;\n",
              "        }#T_d3087d9e_7ed7_11ec_8c3a_0242ac1c0002row0_col3{\n",
              "            text-align:  center;\n",
              "            width:  10em;\n",
              "             height:  80%;\n",
              "            background:  linear-gradient(90deg,#aadbaa 50.8%, transparent 50.8%);\n",
              "            color:  #251e1b;\n",
              "            font-size:  12px;\n",
              "        }#T_d3087d9e_7ed7_11ec_8c3a_0242ac1c0002row0_col4,#T_d3087d9e_7ed7_11ec_8c3a_0242ac1c0002row0_col5,#T_d3087d9e_7ed7_11ec_8c3a_0242ac1c0002row0_col6,#T_d3087d9e_7ed7_11ec_8c3a_0242ac1c0002row0_col7,#T_d3087d9e_7ed7_11ec_8c3a_0242ac1c0002row0_col8,#T_d3087d9e_7ed7_11ec_8c3a_0242ac1c0002row0_col9,#T_d3087d9e_7ed7_11ec_8c3a_0242ac1c0002row0_col10,#T_d3087d9e_7ed7_11ec_8c3a_0242ac1c0002row0_col11,#T_d3087d9e_7ed7_11ec_8c3a_0242ac1c0002row0_col12,#T_d3087d9e_7ed7_11ec_8c3a_0242ac1c0002row0_col13,#T_d3087d9e_7ed7_11ec_8c3a_0242ac1c0002row0_col14,#T_d3087d9e_7ed7_11ec_8c3a_0242ac1c0002row0_col15,#T_d3087d9e_7ed7_11ec_8c3a_0242ac1c0002row0_col16,#T_d3087d9e_7ed7_11ec_8c3a_0242ac1c0002row0_col17,#T_d3087d9e_7ed7_11ec_8c3a_0242ac1c0002row0_col18,#T_d3087d9e_7ed7_11ec_8c3a_0242ac1c0002row1_col4,#T_d3087d9e_7ed7_11ec_8c3a_0242ac1c0002row1_col5,#T_d3087d9e_7ed7_11ec_8c3a_0242ac1c0002row1_col6,#T_d3087d9e_7ed7_11ec_8c3a_0242ac1c0002row1_col7,#T_d3087d9e_7ed7_11ec_8c3a_0242ac1c0002row1_col8,#T_d3087d9e_7ed7_11ec_8c3a_0242ac1c0002row1_col9,#T_d3087d9e_7ed7_11ec_8c3a_0242ac1c0002row1_col10,#T_d3087d9e_7ed7_11ec_8c3a_0242ac1c0002row1_col11,#T_d3087d9e_7ed7_11ec_8c3a_0242ac1c0002row1_col12,#T_d3087d9e_7ed7_11ec_8c3a_0242ac1c0002row1_col13,#T_d3087d9e_7ed7_11ec_8c3a_0242ac1c0002row1_col14,#T_d3087d9e_7ed7_11ec_8c3a_0242ac1c0002row1_col15,#T_d3087d9e_7ed7_11ec_8c3a_0242ac1c0002row1_col16,#T_d3087d9e_7ed7_11ec_8c3a_0242ac1c0002row1_col17,#T_d3087d9e_7ed7_11ec_8c3a_0242ac1c0002row1_col18,#T_d3087d9e_7ed7_11ec_8c3a_0242ac1c0002row2_col4,#T_d3087d9e_7ed7_11ec_8c3a_0242ac1c0002row2_col5,#T_d3087d9e_7ed7_11ec_8c3a_0242ac1c0002row2_col6,#T_d3087d9e_7ed7_11ec_8c3a_0242ac1c0002row2_col7,#T_d3087d9e_7ed7_11ec_8c3a_0242ac1c0002row2_col8,#T_d3087d9e_7ed7_11ec_8c3a_0242ac1c0002row2_col9,#T_d3087d9e_7ed7_11ec_8c3a_0242ac1c0002row2_col10,#T_d3087d9e_7ed7_11ec_8c3a_0242ac1c0002row2_col11,#T_d3087d9e_7ed7_11ec_8c3a_0242ac1c0002row2_col12,#T_d3087d9e_7ed7_11ec_8c3a_0242ac1c0002row2_col13,#T_d3087d9e_7ed7_11ec_8c3a_0242ac1c0002row2_col14,#T_d3087d9e_7ed7_11ec_8c3a_0242ac1c0002row2_col15,#T_d3087d9e_7ed7_11ec_8c3a_0242ac1c0002row2_col16,#T_d3087d9e_7ed7_11ec_8c3a_0242ac1c0002row2_col17,#T_d3087d9e_7ed7_11ec_8c3a_0242ac1c0002row2_col18,#T_d3087d9e_7ed7_11ec_8c3a_0242ac1c0002row3_col4,#T_d3087d9e_7ed7_11ec_8c3a_0242ac1c0002row3_col5,#T_d3087d9e_7ed7_11ec_8c3a_0242ac1c0002row3_col6,#T_d3087d9e_7ed7_11ec_8c3a_0242ac1c0002row3_col7,#T_d3087d9e_7ed7_11ec_8c3a_0242ac1c0002row3_col8,#T_d3087d9e_7ed7_11ec_8c3a_0242ac1c0002row3_col9,#T_d3087d9e_7ed7_11ec_8c3a_0242ac1c0002row3_col10,#T_d3087d9e_7ed7_11ec_8c3a_0242ac1c0002row3_col11,#T_d3087d9e_7ed7_11ec_8c3a_0242ac1c0002row3_col12,#T_d3087d9e_7ed7_11ec_8c3a_0242ac1c0002row3_col13,#T_d3087d9e_7ed7_11ec_8c3a_0242ac1c0002row3_col14,#T_d3087d9e_7ed7_11ec_8c3a_0242ac1c0002row3_col15,#T_d3087d9e_7ed7_11ec_8c3a_0242ac1c0002row3_col16,#T_d3087d9e_7ed7_11ec_8c3a_0242ac1c0002row3_col17,#T_d3087d9e_7ed7_11ec_8c3a_0242ac1c0002row3_col18{\n",
              "            text-align:  center;\n",
              "        }#T_d3087d9e_7ed7_11ec_8c3a_0242ac1c0002row1_col0,#T_d3087d9e_7ed7_11ec_8c3a_0242ac1c0002row3_col0{\n",
              "            text-align:  center;\n",
              "            width:  10em;\n",
              "             height:  80%;\n",
              "            background:  linear-gradient(90deg,#f5f8d6 46.2%, transparent 46.2%);\n",
              "            color:  #251e1b;\n",
              "            font-size:  12px;\n",
              "        }#T_d3087d9e_7ed7_11ec_8c3a_0242ac1c0002row1_col1{\n",
              "            text-align:  center;\n",
              "            width:  10em;\n",
              "             height:  80%;\n",
              "            background:  linear-gradient(90deg,#c778c8 46.0%, transparent 46.0%);\n",
              "            color:  #251e1b;\n",
              "            font-size:  12px;\n",
              "        }#T_d3087d9e_7ed7_11ec_8c3a_0242ac1c0002row1_col2{\n",
              "            text-align:  center;\n",
              "            width:  10em;\n",
              "             height:  80%;\n",
              "            background:  linear-gradient(90deg,#ff4971 51.8%, transparent 51.8%);\n",
              "            color:  #251e1b;\n",
              "            font-size:  12px;\n",
              "        }#T_d3087d9e_7ed7_11ec_8c3a_0242ac1c0002row1_col3{\n",
              "            text-align:  center;\n",
              "            width:  10em;\n",
              "             height:  80%;\n",
              "            background:  linear-gradient(90deg,#aadbaa 46.8%, transparent 46.8%);\n",
              "            color:  #251e1b;\n",
              "            font-size:  12px;\n",
              "        }#T_d3087d9e_7ed7_11ec_8c3a_0242ac1c0002row2_col0{\n",
              "            text-align:  center;\n",
              "            width:  10em;\n",
              "             height:  80%;\n",
              "            background:  linear-gradient(90deg,#f5f8d6 44.2%, transparent 44.2%);\n",
              "            color:  #251e1b;\n",
              "            font-size:  12px;\n",
              "        }#T_d3087d9e_7ed7_11ec_8c3a_0242ac1c0002row2_col1{\n",
              "            text-align:  center;\n",
              "            width:  10em;\n",
              "             height:  80%;\n",
              "            background:  linear-gradient(90deg,#c778c8 43.3%, transparent 43.3%);\n",
              "            color:  #251e1b;\n",
              "            font-size:  12px;\n",
              "        }#T_d3087d9e_7ed7_11ec_8c3a_0242ac1c0002row2_col2{\n",
              "            text-align:  center;\n",
              "            width:  10em;\n",
              "             height:  80%;\n",
              "            background:  linear-gradient(90deg,#ff4971 49.8%, transparent 49.8%);\n",
              "            color:  #251e1b;\n",
              "            font-size:  12px;\n",
              "        }#T_d3087d9e_7ed7_11ec_8c3a_0242ac1c0002row2_col3{\n",
              "            text-align:  center;\n",
              "            width:  10em;\n",
              "             height:  80%;\n",
              "            background:  linear-gradient(90deg,#aadbaa 46.3%, transparent 46.3%);\n",
              "            color:  #251e1b;\n",
              "            font-size:  12px;\n",
              "        }#T_d3087d9e_7ed7_11ec_8c3a_0242ac1c0002row3_col1{\n",
              "            text-align:  center;\n",
              "            width:  10em;\n",
              "             height:  80%;\n",
              "            background:  linear-gradient(90deg,#c778c8 45.0%, transparent 45.0%);\n",
              "            color:  #251e1b;\n",
              "            font-size:  12px;\n",
              "        }#T_d3087d9e_7ed7_11ec_8c3a_0242ac1c0002row3_col2{\n",
              "            text-align:  center;\n",
              "            width:  10em;\n",
              "             height:  80%;\n",
              "            background:  linear-gradient(90deg,#ff4971 49.4%, transparent 49.4%);\n",
              "            color:  #251e1b;\n",
              "            font-size:  12px;\n",
              "        }#T_d3087d9e_7ed7_11ec_8c3a_0242ac1c0002row3_col3{\n",
              "            text-align:  center;\n",
              "            width:  10em;\n",
              "             height:  80%;\n",
              "            background:  linear-gradient(90deg,#aadbaa 45.8%, transparent 45.8%);\n",
              "            color:  #251e1b;\n",
              "            font-size:  12px;\n",
              "        }</style><table id=\"T_d3087d9e_7ed7_11ec_8c3a_0242ac1c0002\" class=\"dataframe\"><thead>    <tr>        <th class=\"blank level0\" ></th>        <th class=\"col_heading level0 col0\" >accuracy</th>        <th class=\"col_heading level0 col1\" >f1_score</th>        <th class=\"col_heading level0 col2\" >precision</th>        <th class=\"col_heading level0 col3\" >recall</th>        <th class=\"col_heading level0 col4\" >ml_framework</th>        <th class=\"col_heading level0 col5\" >transfer_learning</th>        <th class=\"col_heading level0 col6\" >deep_learning</th>        <th class=\"col_heading level0 col7\" >model_type</th>        <th class=\"col_heading level0 col8\" >depth</th>        <th class=\"col_heading level0 col9\" >num_params</th>        <th class=\"col_heading level0 col10\" >dense_layers</th>        <th class=\"col_heading level0 col11\" >softmax_act</th>        <th class=\"col_heading level0 col12\" >relu_act</th>        <th class=\"col_heading level0 col13\" >loss</th>        <th class=\"col_heading level0 col14\" >optimizer</th>        <th class=\"col_heading level0 col15\" >model_config</th>        <th class=\"col_heading level0 col16\" >memory_size</th>        <th class=\"col_heading level0 col17\" >username</th>        <th class=\"col_heading level0 col18\" >version</th>    </tr></thead><tbody>\n",
              "                <tr>\n",
              "                        <th id=\"T_d3087d9e_7ed7_11ec_8c3a_0242ac1c0002level0_row0\" class=\"row_heading level0 row0\" >0</th>\n",
              "                        <td id=\"T_d3087d9e_7ed7_11ec_8c3a_0242ac1c0002row0_col0\" class=\"data row0 col0\" >50.00%</td>\n",
              "                        <td id=\"T_d3087d9e_7ed7_11ec_8c3a_0242ac1c0002row0_col1\" class=\"data row0 col1\" >50.11%</td>\n",
              "                        <td id=\"T_d3087d9e_7ed7_11ec_8c3a_0242ac1c0002row0_col2\" class=\"data row0 col2\" >55.99%</td>\n",
              "                        <td id=\"T_d3087d9e_7ed7_11ec_8c3a_0242ac1c0002row0_col3\" class=\"data row0 col3\" >50.83%</td>\n",
              "                        <td id=\"T_d3087d9e_7ed7_11ec_8c3a_0242ac1c0002row0_col4\" class=\"data row0 col4\" >sklearn</td>\n",
              "                        <td id=\"T_d3087d9e_7ed7_11ec_8c3a_0242ac1c0002row0_col5\" class=\"data row0 col5\" >False</td>\n",
              "                        <td id=\"T_d3087d9e_7ed7_11ec_8c3a_0242ac1c0002row0_col6\" class=\"data row0 col6\" >False</td>\n",
              "                        <td id=\"T_d3087d9e_7ed7_11ec_8c3a_0242ac1c0002row0_col7\" class=\"data row0 col7\" >RandomForestClassifier</td>\n",
              "                        <td id=\"T_d3087d9e_7ed7_11ec_8c3a_0242ac1c0002row0_col8\" class=\"data row0 col8\" >nan</td>\n",
              "                        <td id=\"T_d3087d9e_7ed7_11ec_8c3a_0242ac1c0002row0_col9\" class=\"data row0 col9\" >nan</td>\n",
              "                        <td id=\"T_d3087d9e_7ed7_11ec_8c3a_0242ac1c0002row0_col10\" class=\"data row0 col10\" >nan</td>\n",
              "                        <td id=\"T_d3087d9e_7ed7_11ec_8c3a_0242ac1c0002row0_col11\" class=\"data row0 col11\" >nan</td>\n",
              "                        <td id=\"T_d3087d9e_7ed7_11ec_8c3a_0242ac1c0002row0_col12\" class=\"data row0 col12\" >nan</td>\n",
              "                        <td id=\"T_d3087d9e_7ed7_11ec_8c3a_0242ac1c0002row0_col13\" class=\"data row0 col13\" >nan</td>\n",
              "                        <td id=\"T_d3087d9e_7ed7_11ec_8c3a_0242ac1c0002row0_col14\" class=\"data row0 col14\" >nan</td>\n",
              "                        <td id=\"T_d3087d9e_7ed7_11ec_8c3a_0242ac1c0002row0_col15\" class=\"data row0 col15\" >{'bootstrap': True, 'ccp_alpha...</td>\n",
              "                        <td id=\"T_d3087d9e_7ed7_11ec_8c3a_0242ac1c0002row0_col16\" class=\"data row0 col16\" >nan</td>\n",
              "                        <td id=\"T_d3087d9e_7ed7_11ec_8c3a_0242ac1c0002row0_col17\" class=\"data row0 col17\" >AdvProjectsinML</td>\n",
              "                        <td id=\"T_d3087d9e_7ed7_11ec_8c3a_0242ac1c0002row0_col18\" class=\"data row0 col18\" >3</td>\n",
              "            </tr>\n",
              "            <tr>\n",
              "                        <th id=\"T_d3087d9e_7ed7_11ec_8c3a_0242ac1c0002level0_row1\" class=\"row_heading level0 row1\" >1</th>\n",
              "                        <td id=\"T_d3087d9e_7ed7_11ec_8c3a_0242ac1c0002row1_col0\" class=\"data row1 col0\" >46.15%</td>\n",
              "                        <td id=\"T_d3087d9e_7ed7_11ec_8c3a_0242ac1c0002row1_col1\" class=\"data row1 col1\" >46.02%</td>\n",
              "                        <td id=\"T_d3087d9e_7ed7_11ec_8c3a_0242ac1c0002row1_col2\" class=\"data row1 col2\" >51.79%</td>\n",
              "                        <td id=\"T_d3087d9e_7ed7_11ec_8c3a_0242ac1c0002row1_col3\" class=\"data row1 col3\" >46.83%</td>\n",
              "                        <td id=\"T_d3087d9e_7ed7_11ec_8c3a_0242ac1c0002row1_col4\" class=\"data row1 col4\" >sklearn</td>\n",
              "                        <td id=\"T_d3087d9e_7ed7_11ec_8c3a_0242ac1c0002row1_col5\" class=\"data row1 col5\" >False</td>\n",
              "                        <td id=\"T_d3087d9e_7ed7_11ec_8c3a_0242ac1c0002row1_col6\" class=\"data row1 col6\" >False</td>\n",
              "                        <td id=\"T_d3087d9e_7ed7_11ec_8c3a_0242ac1c0002row1_col7\" class=\"data row1 col7\" >RandomForestClassifier</td>\n",
              "                        <td id=\"T_d3087d9e_7ed7_11ec_8c3a_0242ac1c0002row1_col8\" class=\"data row1 col8\" >nan</td>\n",
              "                        <td id=\"T_d3087d9e_7ed7_11ec_8c3a_0242ac1c0002row1_col9\" class=\"data row1 col9\" >nan</td>\n",
              "                        <td id=\"T_d3087d9e_7ed7_11ec_8c3a_0242ac1c0002row1_col10\" class=\"data row1 col10\" >nan</td>\n",
              "                        <td id=\"T_d3087d9e_7ed7_11ec_8c3a_0242ac1c0002row1_col11\" class=\"data row1 col11\" >nan</td>\n",
              "                        <td id=\"T_d3087d9e_7ed7_11ec_8c3a_0242ac1c0002row1_col12\" class=\"data row1 col12\" >nan</td>\n",
              "                        <td id=\"T_d3087d9e_7ed7_11ec_8c3a_0242ac1c0002row1_col13\" class=\"data row1 col13\" >nan</td>\n",
              "                        <td id=\"T_d3087d9e_7ed7_11ec_8c3a_0242ac1c0002row1_col14\" class=\"data row1 col14\" >nan</td>\n",
              "                        <td id=\"T_d3087d9e_7ed7_11ec_8c3a_0242ac1c0002row1_col15\" class=\"data row1 col15\" >{'bootstrap': True, 'ccp_alpha...</td>\n",
              "                        <td id=\"T_d3087d9e_7ed7_11ec_8c3a_0242ac1c0002row1_col16\" class=\"data row1 col16\" >nan</td>\n",
              "                        <td id=\"T_d3087d9e_7ed7_11ec_8c3a_0242ac1c0002row1_col17\" class=\"data row1 col17\" >AdvProjectsinML</td>\n",
              "                        <td id=\"T_d3087d9e_7ed7_11ec_8c3a_0242ac1c0002row1_col18\" class=\"data row1 col18\" >4</td>\n",
              "            </tr>\n",
              "            <tr>\n",
              "                        <th id=\"T_d3087d9e_7ed7_11ec_8c3a_0242ac1c0002level0_row2\" class=\"row_heading level0 row2\" >3</th>\n",
              "                        <td id=\"T_d3087d9e_7ed7_11ec_8c3a_0242ac1c0002row2_col0\" class=\"data row2 col0\" >44.23%</td>\n",
              "                        <td id=\"T_d3087d9e_7ed7_11ec_8c3a_0242ac1c0002row2_col1\" class=\"data row2 col1\" >43.28%</td>\n",
              "                        <td id=\"T_d3087d9e_7ed7_11ec_8c3a_0242ac1c0002row2_col2\" class=\"data row2 col2\" >49.76%</td>\n",
              "                        <td id=\"T_d3087d9e_7ed7_11ec_8c3a_0242ac1c0002row2_col3\" class=\"data row2 col3\" >46.33%</td>\n",
              "                        <td id=\"T_d3087d9e_7ed7_11ec_8c3a_0242ac1c0002row2_col4\" class=\"data row2 col4\" >sklearn</td>\n",
              "                        <td id=\"T_d3087d9e_7ed7_11ec_8c3a_0242ac1c0002row2_col5\" class=\"data row2 col5\" >False</td>\n",
              "                        <td id=\"T_d3087d9e_7ed7_11ec_8c3a_0242ac1c0002row2_col6\" class=\"data row2 col6\" >False</td>\n",
              "                        <td id=\"T_d3087d9e_7ed7_11ec_8c3a_0242ac1c0002row2_col7\" class=\"data row2 col7\" >RandomForestClassifier</td>\n",
              "                        <td id=\"T_d3087d9e_7ed7_11ec_8c3a_0242ac1c0002row2_col8\" class=\"data row2 col8\" >nan</td>\n",
              "                        <td id=\"T_d3087d9e_7ed7_11ec_8c3a_0242ac1c0002row2_col9\" class=\"data row2 col9\" >nan</td>\n",
              "                        <td id=\"T_d3087d9e_7ed7_11ec_8c3a_0242ac1c0002row2_col10\" class=\"data row2 col10\" >nan</td>\n",
              "                        <td id=\"T_d3087d9e_7ed7_11ec_8c3a_0242ac1c0002row2_col11\" class=\"data row2 col11\" >nan</td>\n",
              "                        <td id=\"T_d3087d9e_7ed7_11ec_8c3a_0242ac1c0002row2_col12\" class=\"data row2 col12\" >nan</td>\n",
              "                        <td id=\"T_d3087d9e_7ed7_11ec_8c3a_0242ac1c0002row2_col13\" class=\"data row2 col13\" >nan</td>\n",
              "                        <td id=\"T_d3087d9e_7ed7_11ec_8c3a_0242ac1c0002row2_col14\" class=\"data row2 col14\" >nan</td>\n",
              "                        <td id=\"T_d3087d9e_7ed7_11ec_8c3a_0242ac1c0002row2_col15\" class=\"data row2 col15\" >{'bootstrap': True, 'ccp_alpha...</td>\n",
              "                        <td id=\"T_d3087d9e_7ed7_11ec_8c3a_0242ac1c0002row2_col16\" class=\"data row2 col16\" >nan</td>\n",
              "                        <td id=\"T_d3087d9e_7ed7_11ec_8c3a_0242ac1c0002row2_col17\" class=\"data row2 col17\" >AdvProjectsinML</td>\n",
              "                        <td id=\"T_d3087d9e_7ed7_11ec_8c3a_0242ac1c0002row2_col18\" class=\"data row2 col18\" >2</td>\n",
              "            </tr>\n",
              "            <tr>\n",
              "                        <th id=\"T_d3087d9e_7ed7_11ec_8c3a_0242ac1c0002level0_row3\" class=\"row_heading level0 row3\" >4</th>\n",
              "                        <td id=\"T_d3087d9e_7ed7_11ec_8c3a_0242ac1c0002row3_col0\" class=\"data row3 col0\" >46.15%</td>\n",
              "                        <td id=\"T_d3087d9e_7ed7_11ec_8c3a_0242ac1c0002row3_col1\" class=\"data row3 col1\" >45.04%</td>\n",
              "                        <td id=\"T_d3087d9e_7ed7_11ec_8c3a_0242ac1c0002row3_col2\" class=\"data row3 col2\" >49.44%</td>\n",
              "                        <td id=\"T_d3087d9e_7ed7_11ec_8c3a_0242ac1c0002row3_col3\" class=\"data row3 col3\" >45.85%</td>\n",
              "                        <td id=\"T_d3087d9e_7ed7_11ec_8c3a_0242ac1c0002row3_col4\" class=\"data row3 col4\" >keras</td>\n",
              "                        <td id=\"T_d3087d9e_7ed7_11ec_8c3a_0242ac1c0002row3_col5\" class=\"data row3 col5\" >False</td>\n",
              "                        <td id=\"T_d3087d9e_7ed7_11ec_8c3a_0242ac1c0002row3_col6\" class=\"data row3 col6\" >True</td>\n",
              "                        <td id=\"T_d3087d9e_7ed7_11ec_8c3a_0242ac1c0002row3_col7\" class=\"data row3 col7\" >Sequential</td>\n",
              "                        <td id=\"T_d3087d9e_7ed7_11ec_8c3a_0242ac1c0002row3_col8\" class=\"data row3 col8\" >4.000000</td>\n",
              "                        <td id=\"T_d3087d9e_7ed7_11ec_8c3a_0242ac1c0002row3_col9\" class=\"data row3 col9\" >10373.000000</td>\n",
              "                        <td id=\"T_d3087d9e_7ed7_11ec_8c3a_0242ac1c0002row3_col10\" class=\"data row3 col10\" >4.000000</td>\n",
              "                        <td id=\"T_d3087d9e_7ed7_11ec_8c3a_0242ac1c0002row3_col11\" class=\"data row3 col11\" >1.000000</td>\n",
              "                        <td id=\"T_d3087d9e_7ed7_11ec_8c3a_0242ac1c0002row3_col12\" class=\"data row3 col12\" >3.000000</td>\n",
              "                        <td id=\"T_d3087d9e_7ed7_11ec_8c3a_0242ac1c0002row3_col13\" class=\"data row3 col13\" >str</td>\n",
              "                        <td id=\"T_d3087d9e_7ed7_11ec_8c3a_0242ac1c0002row3_col14\" class=\"data row3 col14\" >SGD</td>\n",
              "                        <td id=\"T_d3087d9e_7ed7_11ec_8c3a_0242ac1c0002row3_col15\" class=\"data row3 col15\" >{'name': 'sequential', 'layers...</td>\n",
              "                        <td id=\"T_d3087d9e_7ed7_11ec_8c3a_0242ac1c0002row3_col16\" class=\"data row3 col16\" >1369568.000000</td>\n",
              "                        <td id=\"T_d3087d9e_7ed7_11ec_8c3a_0242ac1c0002row3_col17\" class=\"data row3 col17\" >AdvProjectsinML</td>\n",
              "                        <td id=\"T_d3087d9e_7ed7_11ec_8c3a_0242ac1c0002row3_col18\" class=\"data row3 col18\" >1</td>\n",
              "            </tr>\n",
              "    </tbody></table>"
            ],
            "text/plain": [
              "<pandas.io.formats.style.Styler at 0x7f881205d550>"
            ]
          },
          "metadata": {},
          "execution_count": 21
        }
      ]
    },
    {
      "cell_type": "markdown",
      "source": [
        "### Tuning parameters\n",
        "#### I tuned K value sequence number. "
      ],
      "metadata": {
        "id": "wvTXk8g812oH"
      }
    },
    {
      "cell_type": "code",
      "metadata": {
        "colab": {
          "base_uri": "https://localhost:8080/"
        },
        "outputId": "c9ed73c3-20a2-4e9d-b66e-cd1b4e0224c7",
        "id": "BEoCbqq43jrU"
      },
      "source": [
        "from sklearn.ensemble import RandomForestClassifier\n",
        "from sklearn.model_selection import GridSearchCV\n",
        "import numpy as np\n",
        "\n",
        "param_grid = {'n_estimators': np.arange(300, 500, 700),'max_depth':[1, 3, 5]} \n",
        "\n",
        "gridmodel = GridSearchCV(RandomForestClassifier(), param_grid=param_grid, cv=10)\n",
        "\n",
        "gridmodel.fit(preprocessor(X_train), y_train_labels)\n",
        "\n",
        "print(\"best mean cross-validation score: {:.3f}\".format(gridmodel.best_score_))\n",
        "print(\"best parameters: {}\".format(gridmodel.best_params_))\n"
      ],
      "execution_count": null,
      "outputs": [
        {
          "output_type": "stream",
          "name": "stdout",
          "text": [
            "best mean cross-validation score: 0.637\n",
            "best parameters: {'max_depth': 5, 'n_estimators': 300}\n"
          ]
        }
      ]
    },
    {
      "cell_type": "markdown",
      "source": [
        "#### Tuning K value parameters does not improve the score significantly. I turn the depth for the model below."
      ],
      "metadata": {
        "id": "_YsQvk_n3tza"
      }
    },
    {
      "cell_type": "code",
      "metadata": {
        "colab": {
          "base_uri": "https://localhost:8080/"
        },
        "outputId": "4f9e56b2-14cf-4f57-da66-26ab29e5cf97",
        "id": "H0Z7ThJ737If"
      },
      "source": [
        "from sklearn.ensemble import RandomForestClassifier\n",
        "from sklearn.model_selection import GridSearchCV\n",
        "import numpy as np\n",
        "\n",
        "param_grid = {'n_estimators': np.arange(300, 500, 700),'max_depth':[3, 5, 7]} \n",
        "\n",
        "gridmodel = GridSearchCV(RandomForestClassifier(), param_grid=param_grid, cv=10)\n",
        "\n",
        "gridmodel.fit(preprocessor(X_train), y_train_labels)\n",
        "\n",
        "print(\"best mean cross-validation score: {:.3f}\".format(gridmodel.best_score_))\n",
        "print(\"best parameters: {}\".format(gridmodel.best_params_))\n"
      ],
      "execution_count": null,
      "outputs": [
        {
          "output_type": "stream",
          "name": "stdout",
          "text": [
            "best mean cross-validation score: 0.627\n",
            "best parameters: {'max_depth': 7, 'n_estimators': 300}\n"
          ]
        }
      ]
    },
    {
      "cell_type": "markdown",
      "source": [
        "Tuning the depth does not improve the score either. Cross validation with GridSearch CV does not look like a successful model for prediciton in this case."
      ],
      "metadata": {
        "id": "zMpegeau3-R3"
      }
    },
    {
      "cell_type": "markdown",
      "source": [
        "## 4. Submit your best model to the leader board for the World Happiness AI Model Share competition created for this class. Remember to use the instructions on the World Happiness Model Submission Guide notebook, including the specific code to load your train and tests sets.\n",
        "\n",
        "\n",
        "### Submitted. AI modelshare handle: yl4590"
      ],
      "metadata": {
        "id": "gbXr-Fzo4TQ6"
      }
    }
  ]
}